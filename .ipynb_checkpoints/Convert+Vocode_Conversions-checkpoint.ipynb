{
 "cells": [
  {
   "cell_type": "code",
   "execution_count": 12,
   "metadata": {},
   "outputs": [],
   "source": [
    "# CONVERSION PERFORMS THE ACTUAL VOICE CONVERSION THAT HAPPENS AFTER A MODEL IS TRAINED,\n",
    "# SO WE'VE BEEN PROVIDED WITH A PRETRAINED AUTOVC MODEL TO DEMONSTRATE THIS\n",
    "\n",
    "import os\n",
    "import pickle\n",
    "import torch\n",
    "import numpy as np\n",
    "from math import ceil\n",
    "from model_vc import Generator\n",
    "\n",
    "def pad_seq(x, base=32):\n",
    "    len_out = int(base * ceil(float(x.shape[0])/base))\n",
    "    len_pad = len_out - x.shape[0]\n",
    "    assert len_pad >= 0\n",
    "    return np.pad(x, ((0,len_pad),(0,0)), 'constant'), len_pad\n",
    "\n",
    "device = 'cuda:0'\n",
    "one_hot = True\n",
    "if one_hot==True:\n",
    "    G = Generator(32,20,512,32).eval().to(device)\n",
    "else:\n",
    "    G = Generator(32,256,512,32).eval().to(device)\n",
    "ckpt_iters = 575000\n",
    "model_dir = 'Default1HotFrom400kIters'\n",
    "root = '/homes/bdoc3/my_autovc/model_data'\n",
    "checkpoint_path = root +'/' +model_dir +'/ckpts/ckpt_' +str(ckpt_iters) +'.pth.tar'\n",
    "\n",
    "subdir_for_wavs = root +'/' +model_dir +'/generated_wavs/' +str(ckpt_iters) +'iters'\n",
    "if os.path.exists(subdir_for_wavs)==False:\n",
    "    os.makedirs(subdir_for_wavs)"
   ]
  },
  {
   "cell_type": "code",
   "execution_count": 13,
   "metadata": {},
   "outputs": [],
   "source": [
    "# pretrained autovc model loaded into G model\n",
    "g_checkpoint = torch.load(checkpoint_path)\n",
    "G.load_state_dict(g_checkpoint['model_state_dict'])\n",
    "g_optimizer = torch.optim.Adam(G.parameters(), 0.0001)\n",
    "g_optimizer.load_state_dict(g_checkpoint['optimizer_state_dict'])"
   ]
  },
  {
   "cell_type": "code",
   "execution_count": 14,
   "metadata": {},
   "outputs": [
    {
     "name": "stdout",
     "output_type": "stream",
     "text": [
      "Training speaker:  p244\n",
      "Training speaker:  p303\n",
      "Training speaker:  p376\n",
      "Training speaker:  p360\n",
      "Training speaker:  p341\n",
      "Training speaker:  p233\n",
      "Training speaker:  p259\n",
      "Training speaker:  p241\n",
      "Training speaker:  p293\n",
      "Training speaker:  p284\n",
      "Training speaker:  p287\n",
      "Training speaker:  p315\n",
      "Training speaker:  p275\n",
      "Training speaker:  p347\n",
      "Training speaker:  p253\n",
      "Training speaker:  p238\n",
      "Training speaker:  p292\n",
      "Training speaker:  p228\n",
      "Speaker in common with pretrained meta data:  p228\n",
      "Training speaker:  p364\n",
      "Training speaker:  p276\n"
     ]
    }
   ],
   "source": [
    "# see which speakers are in both training and pretrained meta data\n",
    "training_meta_data = pickle.load(open(root +'/' +model_dir +'/training_meta_data.pkl', \"rb\"))\n",
    "pretrained_test_data = pickle.load(open('metadata.pkl', \"rb\"))\n",
    "\n",
    "for i, spkr_i in enumerate(training_meta_data):\n",
    "    print('Training speaker: ', spkr_i[0])\n",
    "    for j, spkr_j in enumerate(pretrained_test_data):\n",
    "        if spkr_i[0]==spkr_j[0]:\n",
    "            print('Speaker in common with pretrained meta data: ', spkr_i[0])"
   ]
  },
  {
   "cell_type": "code",
   "execution_count": 15,
   "metadata": {},
   "outputs": [
    {
     "name": "stdout",
     "output_type": "stream",
     "text": [
      "3 p360\n",
      "6 p259\n",
      "5 p233\n",
      "17 p228\n"
     ]
    },
    {
     "data": {
      "text/plain": [
       "[3, 6, 5, 17]"
      ]
     },
     "execution_count": 15,
     "metadata": {},
     "output_type": "execute_result"
    }
   ],
   "source": [
    "# Determine test speakers\n",
    "\n",
    "# p360  19  M    American  New  Jersey\n",
    "# p259  23  M    English    Nottingham\n",
    "# p233  23  F    English    Staffordshire\n",
    "# p228  22  F    English    Southern  England\n",
    "test_speakers = ['p360', 'p259', 'p233']\n",
    "trained_spkr = 'p228'\n",
    "test_speakers.append(trained_spkr)\n",
    "test_speakers\n",
    "test_speaker_idx = []\n",
    "for i, spkr_i in enumerate(test_speakers):\n",
    "    for j, spkr_j in enumerate(training_meta_data):\n",
    "        if spkr_i == spkr_j[0]:\n",
    "            print(j, spkr_i)\n",
    "            test_speaker_idx.append(j)\n",
    "test_speaker_idx"
   ]
  },
  {
   "cell_type": "code",
   "execution_count": 16,
   "metadata": {},
   "outputs": [
    {
     "data": {
      "text/plain": [
       "[array([0., 0., 0., 1., 0., 0., 0., 0., 0., 0., 0., 0., 0., 0., 0., 0., 0.,\n",
       "        0., 0., 0.]),\n",
       " array([0., 0., 0., 0., 0., 0., 1., 0., 0., 0., 0., 0., 0., 0., 0., 0., 0.,\n",
       "        0., 0., 0.]),\n",
       " array([0., 0., 0., 0., 0., 1., 0., 0., 0., 0., 0., 0., 0., 0., 0., 0., 0.,\n",
       "        0., 0., 0.]),\n",
       " array([0., 0., 0., 0., 0., 0., 0., 0., 0., 0., 0., 0., 0., 0., 0., 0., 0.,\n",
       "        1., 0., 0.])]"
      ]
     },
     "execution_count": 16,
     "metadata": {},
     "output_type": "execute_result"
    }
   ],
   "source": [
    "# Determine embeddings\n",
    "num_training_spkrs = len(training_meta_data)\n",
    "if one_hot==True:\n",
    "    one_hot_array = np.eye(num_training_spkrs)[np.arange(num_training_spkrs)]\n",
    "else: throw_error\n",
    "\n",
    "test_spkr_embs = []\n",
    "if one_hot==True:\n",
    "    for spkr_idx in test_speaker_idx:\n",
    "        spkr_emb = one_hot_array[spkr_idx]\n",
    "        test_spkr_embs.append(spkr_emb)\n",
    "else: throw_error\n",
    "test_spkr_embs"
   ]
  },
  {
   "cell_type": "code",
   "execution_count": 17,
   "metadata": {},
   "outputs": [
    {
     "name": "stdout",
     "output_type": "stream",
     "text": [
      "p360\n",
      "[[0.22176196 0.26607546 0.16936074 ... 0.         0.         0.00643862]\n",
      " [0.26866588 0.25565267 0.24472088 ... 0.00692705 0.         0.00536238]\n",
      " [0.27034816 0.23925517 0.24312149 ... 0.01256773 0.         0.        ]\n",
      " ...\n",
      " [0.38358983 0.25486168 0.21697247 ... 0.05973994 0.07492047 0.07607802]\n",
      " [0.3766503  0.28793564 0.24837269 ... 0.04760766 0.0669216  0.07356098]\n",
      " [0.35273877 0.33902618 0.2798415  ... 0.04621968 0.04384156 0.03151707]]\n",
      "p259\n",
      "[[0.32901496 0.30260512 0.27612418 ... 0.03612921 0.         0.        ]\n",
      " [0.33875662 0.29561654 0.28199044 ... 0.01817036 0.         0.        ]\n",
      " [0.29525036 0.25718814 0.18256567 ... 0.         0.         0.        ]\n",
      " ...\n",
      " [0.40179682 0.31568745 0.33146933 ... 0.07257041 0.08366439 0.07716304]\n",
      " [0.31301412 0.26171017 0.30939654 ... 0.0401157  0.05747946 0.0258889 ]\n",
      " [0.29566148 0.29055786 0.33375525 ... 0.05467255 0.0603699  0.        ]]\n",
      "p233\n",
      "[[0.3925055  0.4009754  0.2377748  ... 0.         0.         0.        ]\n",
      " [0.41015998 0.36489874 0.27877155 ... 0.         0.         0.        ]\n",
      " [0.3674736  0.31646448 0.29107448 ... 0.         0.         0.        ]\n",
      " ...\n",
      " [0.36336178 0.27667686 0.3089871  ... 0.0791118  0.09623007 0.09569068]\n",
      " [0.38123405 0.32232866 0.31736234 ... 0.10925201 0.10008285 0.10090666]\n",
      " [0.37893516 0.35205418 0.34091887 ... 0.11454432 0.09665103 0.08292762]]\n",
      "p228\n",
      "[[0.32563537 0.31032786 0.24629052 ... 0.         0.         0.        ]\n",
      " [0.39572892 0.35105023 0.26779714 ... 0.         0.         0.        ]\n",
      " [0.3694941  0.3107996  0.26798567 ... 0.         0.         0.        ]\n",
      " ...\n",
      " [0.40025902 0.3129473  0.28435683 ... 0.00600663 0.01310516 0.        ]\n",
      " [0.4194692  0.31017116 0.2943336  ... 0.         0.00518123 0.        ]\n",
      " [0.3701993  0.2822802  0.2720686  ... 0.         0.00359611 0.        ]]\n"
     ]
    },
    {
     "data": {
      "text/plain": [
       "['/import/c4dm-datasets/VCTK-Corpus-0.92/wav48_silence_trimmed/p360/p360_001_mic1.flac',\n",
       " '/import/c4dm-datasets/VCTK-Corpus-0.92/wav48_silence_trimmed/p259/p259_001_mic1.flac',\n",
       " '/import/c4dm-datasets/VCTK-Corpus-0.92/wav48_silence_trimmed/p233/p233_001_mic1.flac',\n",
       " '/import/c4dm-datasets/VCTK-Corpus-0.92/wav48_silence_trimmed/p228/p228_001_mic1.flac']"
      ]
     },
     "execution_count": 17,
     "metadata": {},
     "output_type": "execute_result"
    }
   ],
   "source": [
    "# make format that can be fed to converter which consists of a list of id, spkr_emb, mel_spec\n",
    "example_name = '001'\n",
    "spec_dir = './spmel'\n",
    "test_spkr_specs = []\n",
    "database_paths = []\n",
    "database_root = '/import/c4dm-datasets/VCTK-Corpus-0.92/wav48_silence_trimmed'\n",
    "for spkr in test_speakers:\n",
    "    print(spkr)\n",
    "    spec_path = spec_dir +'/' +str(spkr) +'/' +str(spkr) +'_' +example_name +'_mic1.npy'\n",
    "    audio_path = database_root +'/' +str(spkr) +'/' +str(spkr) +'_' +example_name +'_mic1.flac'\n",
    "    database_paths.append(audio_path)\n",
    "    spec = np.load(spec_path)\n",
    "    print(spec)\n",
    "    test_spkr_specs.append(spec)\n",
    "database_paths"
   ]
  },
  {
   "cell_type": "code",
   "execution_count": 18,
   "metadata": {},
   "outputs": [
    {
     "name": "stdout",
     "output_type": "stream",
     "text": [
      "('p360', array([0., 0., 0., 1., 0., 0., 0., 0., 0., 0., 0., 0., 0., 0., 0., 0., 0.,\n",
      "       0., 0., 0.]), array([[0.22176196, 0.26607546, 0.16936074, ..., 0.        , 0.        ,\n",
      "        0.00643862],\n",
      "       [0.26866588, 0.25565267, 0.24472088, ..., 0.00692705, 0.        ,\n",
      "        0.00536238],\n",
      "       [0.27034816, 0.23925517, 0.24312149, ..., 0.01256773, 0.        ,\n",
      "        0.        ],\n",
      "       ...,\n",
      "       [0.38358983, 0.25486168, 0.21697247, ..., 0.05973994, 0.07492047,\n",
      "        0.07607802],\n",
      "       [0.3766503 , 0.28793564, 0.24837269, ..., 0.04760766, 0.0669216 ,\n",
      "        0.07356098],\n",
      "       [0.35273877, 0.33902618, 0.2798415 , ..., 0.04621968, 0.04384156,\n",
      "        0.03151707]], dtype=float32))\n",
      "('p259', array([0., 0., 0., 0., 0., 0., 1., 0., 0., 0., 0., 0., 0., 0., 0., 0., 0.,\n",
      "       0., 0., 0.]), array([[0.32901496, 0.30260512, 0.27612418, ..., 0.03612921, 0.        ,\n",
      "        0.        ],\n",
      "       [0.33875662, 0.29561654, 0.28199044, ..., 0.01817036, 0.        ,\n",
      "        0.        ],\n",
      "       [0.29525036, 0.25718814, 0.18256567, ..., 0.        , 0.        ,\n",
      "        0.        ],\n",
      "       ...,\n",
      "       [0.40179682, 0.31568745, 0.33146933, ..., 0.07257041, 0.08366439,\n",
      "        0.07716304],\n",
      "       [0.31301412, 0.26171017, 0.30939654, ..., 0.0401157 , 0.05747946,\n",
      "        0.0258889 ],\n",
      "       [0.29566148, 0.29055786, 0.33375525, ..., 0.05467255, 0.0603699 ,\n",
      "        0.        ]], dtype=float32))\n",
      "('p233', array([0., 0., 0., 0., 0., 1., 0., 0., 0., 0., 0., 0., 0., 0., 0., 0., 0.,\n",
      "       0., 0., 0.]), array([[0.3925055 , 0.4009754 , 0.2377748 , ..., 0.        , 0.        ,\n",
      "        0.        ],\n",
      "       [0.41015998, 0.36489874, 0.27877155, ..., 0.        , 0.        ,\n",
      "        0.        ],\n",
      "       [0.3674736 , 0.31646448, 0.29107448, ..., 0.        , 0.        ,\n",
      "        0.        ],\n",
      "       ...,\n",
      "       [0.36336178, 0.27667686, 0.3089871 , ..., 0.0791118 , 0.09623007,\n",
      "        0.09569068],\n",
      "       [0.38123405, 0.32232866, 0.31736234, ..., 0.10925201, 0.10008285,\n",
      "        0.10090666],\n",
      "       [0.37893516, 0.35205418, 0.34091887, ..., 0.11454432, 0.09665103,\n",
      "        0.08292762]], dtype=float32))\n",
      "('p228', array([0., 0., 0., 0., 0., 0., 0., 0., 0., 0., 0., 0., 0., 0., 0., 0., 0.,\n",
      "       1., 0., 0.]), array([[0.32563537, 0.31032786, 0.24629052, ..., 0.        , 0.        ,\n",
      "        0.        ],\n",
      "       [0.39572892, 0.35105023, 0.26779714, ..., 0.        , 0.        ,\n",
      "        0.        ],\n",
      "       [0.3694941 , 0.3107996 , 0.26798567, ..., 0.        , 0.        ,\n",
      "        0.        ],\n",
      "       ...,\n",
      "       [0.40025902, 0.3129473 , 0.28435683, ..., 0.00600663, 0.01310516,\n",
      "        0.        ],\n",
      "       [0.4194692 , 0.31017116, 0.2943336 , ..., 0.        , 0.00518123,\n",
      "        0.        ],\n",
      "       [0.3701993 , 0.2822802 , 0.2720686 , ..., 0.        , 0.00359611,\n",
      "        0.        ]], dtype=float32))\n"
     ]
    }
   ],
   "source": [
    "training_data_for_synthesis = []\n",
    "\n",
    "for i in range(len(test_speakers)):\n",
    "    spkr_tuple = (test_speakers[i], test_spkr_embs[i], test_spkr_specs[i])\n",
    "    training_data_for_synthesis.append(spkr_tuple)\n",
    "\n",
    "for entry in training_data_for_synthesis:\n",
    "    print(entry)"
   ]
  },
  {
   "cell_type": "code",
   "execution_count": 19,
   "metadata": {},
   "outputs": [
    {
     "name": "stdout",
     "output_type": "stream",
     "text": [
      "done\n"
     ]
    }
   ],
   "source": [
    "# spect_vc collects spectrogram information to be used later for spec2wav conversion via wavnet model\n",
    "spect_vc = []\n",
    "\n",
    "x_org_list = []\n",
    "\n",
    "# each sbmt_i has a speaker ID, a speaker embedding, and a spectrogram\n",
    "for sbmt_i in training_data_for_synthesis:\n",
    "    \n",
    "    # x origin - 80Mel spectrogram\n",
    "    x_org = sbmt_i[2]\n",
    "    x_org_list.append( ('{}'.format(sbmt_i[0]), x_org) )\n",
    "    x_org, len_pad = pad_seq(x_org)\n",
    "    # utterance origin is just padded spec in tensor form\n",
    "    uttr_org = torch.from_numpy(x_org[np.newaxis, :, :]).to(device)\n",
    "    # speaker embedding \n",
    "    emb_org = torch.from_numpy(sbmt_i[1][np.newaxis, :]).to(device)\n",
    "\n",
    "    # for each entry in training_data_for_synthesis, use it as the embedding target and use this in G\n",
    "    for sbmt_j in training_data_for_synthesis:\n",
    "        # embedding target represents S2 in the paper - the embedding provided by a pretrained Speaker Encoder\n",
    "        # I guess this converts each utterance from the data so that it matches the utterance of every speaker\n",
    "        # So if there were 4 utterances with different speakers, then this code will generate 4*4=16 conversions\n",
    "        emb_trg = torch.from_numpy(sbmt_j[1][np.newaxis, :]).to(device)\n",
    "        \n",
    "        # as this is conversion not training, no backprop/gradientCommunication needed here\n",
    "        with torch.no_grad():\n",
    "            # x_identic_psnt = target utterance, produced by the Generator\n",
    "            # Generator is fed an utterance and speaker \n",
    "            if one_hot == True:\n",
    "                emb_org =emb_org.float()\n",
    "                emb_trg =emb_trg.float()\n",
    "            else:\n",
    "                throw_error  \n",
    "            _, x_identic_psnt, _ = G(uttr_org, emb_org, emb_trg)\n",
    "            \n",
    "        if len_pad == 0:\n",
    "            # utterance target is the converted speech\n",
    "            uttr_trg = x_identic_psnt[0, 0, :, :].cpu().numpy()\n",
    "        else:\n",
    "            uttr_trg = x_identic_psnt[0, 0, :-len_pad, :].cpu().numpy()\n",
    "        # utterance is saved in a list, along with source and target ID\n",
    "        spect_vc.append( ('{}x{}'.format(sbmt_i[0], sbmt_j[0]), uttr_trg) )\n",
    "        \n",
    "        \n",
    "with open('results.pkl', 'wb') as handle:\n",
    "    pickle.dump(spect_vc, handle)\n",
    "\n",
    "with open('x_org.pkl', 'wb') as howdy:\n",
    "    pickle.dump(x_org_list, howdy)\n",
    "\n",
    "print('done')"
   ]
  },
  {
   "cell_type": "code",
   "execution_count": 20,
   "metadata": {},
   "outputs": [
    {
     "data": {
      "text/plain": [
       "<All keys matched successfully>"
      ]
     },
     "execution_count": 20,
     "metadata": {},
     "output_type": "execute_result"
    }
   ],
   "source": [
    "# prepare wavenet operations\n",
    "torch.cuda.empty_cache()\n",
    "\n",
    "import torch\n",
    "import librosa\n",
    "import soundfile as sf\n",
    "import pickle\n",
    "from synthesis import build_model\n",
    "from synthesis import wavegen\n",
    "\n",
    "\n",
    "device = torch.device(\"cuda:0\")\n",
    "model = build_model().to(device)\n",
    "checkpoint = torch.load(\"checkpoint_step001000000_ema.pth\")\n",
    "model.load_state_dict(checkpoint[\"state_dict\"])"
   ]
  },
  {
   "cell_type": "code",
   "execution_count": 21,
   "metadata": {},
   "outputs": [
    {
     "data": {
      "text/plain": [
       "(137, 80)"
      ]
     },
     "execution_count": 21,
     "metadata": {},
     "output_type": "execute_result"
    }
   ],
   "source": [
    "results = pickle.load(open('results.pkl', 'rb'))\n",
    "result = results[0]\n",
    "result[1].shape"
   ]
  },
  {
   "cell_type": "code",
   "execution_count": 22,
   "metadata": {
    "scrolled": true
   },
   "outputs": [
    {
     "name": "stderr",
     "output_type": "stream",
     "text": [
      "  0%|          | 8/35072 [00:00<07:50, 74.59it/s]"
     ]
    },
    {
     "name": "stdout",
     "output_type": "stream",
     "text": [
      "p360xp360\n"
     ]
    },
    {
     "name": "stderr",
     "output_type": "stream",
     "text": [
      "100%|██████████| 35072/35072 [07:38<00:00, 76.44it/s]\n",
      "  0%|          | 8/35072 [00:00<07:25, 78.67it/s]"
     ]
    },
    {
     "name": "stdout",
     "output_type": "stream",
     "text": [
      "p360xp259\n"
     ]
    },
    {
     "name": "stderr",
     "output_type": "stream",
     "text": [
      "100%|██████████| 35072/35072 [07:35<00:00, 77.06it/s]\n",
      "  0%|          | 8/35072 [00:00<07:19, 79.73it/s]"
     ]
    },
    {
     "name": "stdout",
     "output_type": "stream",
     "text": [
      "p360xp233\n"
     ]
    },
    {
     "name": "stderr",
     "output_type": "stream",
     "text": [
      "100%|██████████| 35072/35072 [07:32<00:00, 77.56it/s]\n",
      "  0%|          | 8/35072 [00:00<07:30, 77.87it/s]"
     ]
    },
    {
     "name": "stdout",
     "output_type": "stream",
     "text": [
      "p360xp228\n"
     ]
    },
    {
     "name": "stderr",
     "output_type": "stream",
     "text": [
      "100%|██████████| 35072/35072 [07:37<00:00, 76.70it/s]\n",
      "  0%|          | 6/34304 [00:00<10:08, 56.32it/s]"
     ]
    },
    {
     "name": "stdout",
     "output_type": "stream",
     "text": [
      "p259xp360\n"
     ]
    },
    {
     "name": "stderr",
     "output_type": "stream",
     "text": [
      "100%|██████████| 34304/34304 [07:25<00:00, 77.02it/s]\n",
      "  0%|          | 6/34304 [00:00<10:29, 54.47it/s]"
     ]
    },
    {
     "name": "stdout",
     "output_type": "stream",
     "text": [
      "p259xp259\n"
     ]
    },
    {
     "name": "stderr",
     "output_type": "stream",
     "text": [
      "100%|██████████| 34304/34304 [07:27<00:00, 76.65it/s]\n",
      "  0%|          | 6/34304 [00:00<10:20, 55.25it/s]"
     ]
    },
    {
     "name": "stdout",
     "output_type": "stream",
     "text": [
      "p259xp233\n"
     ]
    },
    {
     "name": "stderr",
     "output_type": "stream",
     "text": [
      "100%|██████████| 34304/34304 [07:25<00:00, 77.08it/s]\n",
      "  0%|          | 8/34304 [00:00<07:15, 78.82it/s]"
     ]
    },
    {
     "name": "stdout",
     "output_type": "stream",
     "text": [
      "p259xp228\n"
     ]
    },
    {
     "name": "stderr",
     "output_type": "stream",
     "text": [
      "100%|██████████| 34304/34304 [07:45<00:00, 73.62it/s]\n",
      "  0%|          | 8/41984 [00:00<08:53, 78.75it/s]"
     ]
    },
    {
     "name": "stdout",
     "output_type": "stream",
     "text": [
      "p233xp360\n"
     ]
    },
    {
     "name": "stderr",
     "output_type": "stream",
     "text": [
      "100%|██████████| 41984/41984 [09:13<00:00, 75.79it/s]\n",
      "  0%|          | 6/41984 [00:00<12:03, 58.01it/s]"
     ]
    },
    {
     "name": "stdout",
     "output_type": "stream",
     "text": [
      "p233xp259\n"
     ]
    },
    {
     "name": "stderr",
     "output_type": "stream",
     "text": [
      " 29%|██▉       | 12117/41984 [02:37<06:24, 77.64it/s]IOPub message rate exceeded.\n",
      "The notebook server will temporarily stop sending output\n",
      "to the client in order to avoid crashing it.\n",
      "To change this limit, set the config variable\n",
      "`--NotebookApp.iopub_msg_rate_limit`.\n",
      "\n",
      "Current values:\n",
      "NotebookApp.iopub_msg_rate_limit=1000.0 (msgs/sec)\n",
      "NotebookApp.rate_limit_window=3.0 (secs)\n",
      "\n",
      " 96%|█████████▌| 40191/41984 [08:42<00:23, 77.52it/s]IOPub message rate exceeded.\n",
      "The notebook server will temporarily stop sending output\n",
      "to the client in order to avoid crashing it.\n",
      "To change this limit, set the config variable\n",
      "`--NotebookApp.iopub_msg_rate_limit`.\n",
      "\n",
      "Current values:\n",
      "NotebookApp.iopub_msg_rate_limit=1000.0 (msgs/sec)\n",
      "NotebookApp.rate_limit_window=3.0 (secs)\n",
      "\n",
      " 66%|██████▌   | 28115/42752 [06:12<03:11, 76.62it/s]IOPub message rate exceeded.\n",
      "The notebook server will temporarily stop sending output\n",
      "to the client in order to avoid crashing it.\n",
      "To change this limit, set the config variable\n",
      "`--NotebookApp.iopub_msg_rate_limit`.\n",
      "\n",
      "Current values:\n",
      "NotebookApp.iopub_msg_rate_limit=1000.0 (msgs/sec)\n",
      "NotebookApp.rate_limit_window=3.0 (secs)\n",
      "\n",
      "100%|██████████| 42752/42752 [09:17<00:00, 76.68it/s]\n",
      "  0%|          | 8/42752 [00:00<09:10, 77.58it/s]"
     ]
    },
    {
     "name": "stdout",
     "output_type": "stream",
     "text": [
      "p228xp233\n"
     ]
    },
    {
     "name": "stderr",
     "output_type": "stream",
     "text": [
      " 29%|██▉       | 12338/42752 [02:40<06:34, 77.01it/s]IOPub message rate exceeded.\n",
      "The notebook server will temporarily stop sending output\n",
      "to the client in order to avoid crashing it.\n",
      "To change this limit, set the config variable\n",
      "`--NotebookApp.iopub_msg_rate_limit`.\n",
      "\n",
      "Current values:\n",
      "NotebookApp.iopub_msg_rate_limit=1000.0 (msgs/sec)\n",
      "NotebookApp.rate_limit_window=3.0 (secs)\n",
      "\n",
      " 98%|█████████▊| 41779/42752 [09:05<00:12, 76.91it/s]IOPub message rate exceeded.\n",
      "The notebook server will temporarily stop sending output\n",
      "to the client in order to avoid crashing it.\n",
      "To change this limit, set the config variable\n",
      "`--NotebookApp.iopub_msg_rate_limit`.\n",
      "\n",
      "Current values:\n",
      "NotebookApp.iopub_msg_rate_limit=1000.0 (msgs/sec)\n",
      "NotebookApp.rate_limit_window=3.0 (secs)\n",
      "\n"
     ]
    }
   ],
   "source": [
    "# reproduce original data from pre-compuuted (noise-injected) spectrograms\n",
    "\n",
    "results = pickle.load(open('results.pkl', 'rb'))\n",
    "subdir_for_conversion = subdir_for_wavs +'/conversions'\n",
    "if os.path.exists(subdir_for_conversion)==False:\n",
    "    os.makedirs(subdir_for_conversion)\n",
    "\n",
    "for result in results:\n",
    "    name = result[0]\n",
    "    c = result[1]\n",
    "    print(name)\n",
    "    waveform = wavegen(model, c=c)   \n",
    "#     librosa.output.write_wav(name+'.wav', waveform, sr=16000)\n",
    "    sf.write(subdir_for_conversion +'/' +name +'.wav', waveform, samplerate=16000)"
   ]
  },
  {
   "cell_type": "code",
   "execution_count": null,
   "metadata": {},
   "outputs": [],
   "source": []
  }
 ],
 "metadata": {
  "kernelspec": {
   "display_name": "venvAutoVc",
   "language": "python",
   "name": "venvautovc"
  },
  "language_info": {
   "codemirror_mode": {
    "name": "ipython",
    "version": 3
   },
   "file_extension": ".py",
   "mimetype": "text/x-python",
   "name": "python",
   "nbconvert_exporter": "python",
   "pygments_lexer": "ipython3",
   "version": "3.7.7"
  }
 },
 "nbformat": 4,
 "nbformat_minor": 4
}
